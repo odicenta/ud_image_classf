{
 "cells": [
  {
   "cell_type": "markdown",
   "metadata": {
    "collapsed": true
   },
   "source": [
    "# Image Classification\n",
    "In this project, you'll classify images from the [CIFAR-10 dataset](https://www.cs.toronto.edu/~kriz/cifar.html).  The dataset consists of airplanes, dogs, cats, and other objects. You'll preprocess the images, then train a convolutional neural network on all the samples. The images need to be normalized and the labels need to be one-hot encoded.  You'll get to apply what you learned and build a convolutional, max pooling, dropout, and fully connected layers.  At the end, you'll get to see your neural network's predictions on the sample images.\n",
    "## Get the Data\n",
    "Run the following cell to download the [CIFAR-10 dataset for python](https://www.cs.toronto.edu/~kriz/cifar-10-python.tar.gz)."
   ]
  },
  {
   "cell_type": "code",
   "execution_count": 1,
   "metadata": {},
   "outputs": [
    {
     "name": "stderr",
     "output_type": "stream",
     "text": [
      "CIFAR-10 Dataset: 171MB [01:31, 1.87MB/s]                                                                              \n"
     ]
    },
    {
     "name": "stdout",
     "output_type": "stream",
     "text": [
      "All files found!\n"
     ]
    }
   ],
   "source": [
    "\"\"\"\n",
    "DON'T MODIFY ANYTHING IN THIS CELL THAT IS BELOW THIS LINE\n",
    "\"\"\"\n",
    "from urllib.request import urlretrieve\n",
    "from os.path import isfile, isdir\n",
    "from tqdm import tqdm\n",
    "import problem_unittests as tests\n",
    "import tarfile\n",
    "\n",
    "cifar10_dataset_folder_path = 'cifar-10-batches-py'\n",
    "\n",
    "# Use Floyd's cifar-10 dataset if present\n",
    "floyd_cifar10_location = '/cifar/cifar-10-python.tar.gz'\n",
    "if isfile(floyd_cifar10_location):\n",
    "    tar_gz_path = floyd_cifar10_location\n",
    "else:\n",
    "    tar_gz_path = 'cifar-10-python.tar.gz'\n",
    "\n",
    "class DLProgress(tqdm):\n",
    "    last_block = 0\n",
    "\n",
    "    def hook(self, block_num=1, block_size=1, total_size=None):\n",
    "        self.total = total_size\n",
    "        self.update((block_num - self.last_block) * block_size)\n",
    "        self.last_block = block_num\n",
    "\n",
    "if not isfile(tar_gz_path):\n",
    "    with DLProgress(unit='B', unit_scale=True, miniters=1, desc='CIFAR-10 Dataset') as pbar:\n",
    "        urlretrieve(\n",
    "            'https://www.cs.toronto.edu/~kriz/cifar-10-python.tar.gz',\n",
    "            tar_gz_path,\n",
    "            pbar.hook)\n",
    "\n",
    "if not isdir(cifar10_dataset_folder_path):\n",
    "    with tarfile.open(tar_gz_path) as tar:\n",
    "        tar.extractall()\n",
    "        tar.close()\n",
    "\n",
    "\n",
    "tests.test_folder_path(cifar10_dataset_folder_path)"
   ]
  },
  {
   "cell_type": "markdown",
   "metadata": {},
   "source": [
    "## Explore the Data\n",
    "The dataset is broken into batches to prevent your machine from running out of memory.  The CIFAR-10 dataset consists of 5 batches, named `data_batch_1`, `data_batch_2`, etc.. Each batch contains the labels and images that are one of the following:\n",
    "* airplane\n",
    "* automobile\n",
    "* bird\n",
    "* cat\n",
    "* deer\n",
    "* dog\n",
    "* frog\n",
    "* horse\n",
    "* ship\n",
    "* truck\n",
    "\n",
    "Understanding a dataset is part of making predictions on the data.  Play around with the code cell below by changing the `batch_id` and `sample_id`. The `batch_id` is the id for a batch (1-5). The `sample_id` is the id for a image and label pair in the batch.\n",
    "\n",
    "Ask yourself \"What are all possible labels?\", \"What is the range of values for the image data?\", \"Are the labels in order or random?\".  Answers to questions like these will help you preprocess the data and end up with better predictions."
   ]
  },
  {
   "cell_type": "code",
   "execution_count": 2,
   "metadata": {},
   "outputs": [
    {
     "name": "stdout",
     "output_type": "stream",
     "text": [
      "\n",
      "Stats of batch 4:\n",
      "Samples: 10000\n",
      "Label Counts: {0: 1003, 1: 963, 2: 1041, 3: 976, 4: 1004, 5: 1021, 6: 1004, 7: 981, 8: 1024, 9: 983}\n",
      "First 20 Labels: [0, 6, 0, 2, 7, 2, 1, 2, 4, 1, 5, 6, 6, 3, 1, 3, 5, 5, 8, 1]\n",
      "\n",
      "Example of Image 53:\n",
      "Image - Min Value: 0 Max Value: 253\n",
      "Image - Shape: (32, 32, 3)\n",
      "Label - Label Id: 7 Name: horse\n"
     ]
    },
    {
     "data": {
      "image/png": "[encoded data removed]",
      "text/plain": [
       "<matplotlib.figure.Figure at 0x23343376198>"
      ]
     },
     "metadata": {
      "image/png": {
       "height": 250,
       "width": 253
      }
     },
     "output_type": "display_data"
    }
   ],
   "source": [
    "%matplotlib inline\n",
    "%config InlineBackend.figure_format = 'retina'\n",
    "\n",
    "import helper\n",
    "import numpy as np\n",
    "\n",
    "# Explore the dataset\n",
    "batch_id = 4\n",
    "sample_id = 53\n",
    "helper.display_stats(cifar10_dataset_folder_path, batch_id, sample_id)"
   ]
  },
  {
   "cell_type": "markdown",
   "metadata": {},
   "source": [
    "## Implement Preprocess Functions\n",
    "### Normalize\n",
    "In the cell below, implement the `normalize` function to take in image data, `x`, and return it as a normalized Numpy array. The values should be in the range of 0 to 1, inclusive.  The return object should be the same shape as `x`."
   ]
  },
  {
   "cell_type": "code",
   "execution_count": 3,
   "metadata": {},
   "outputs": [
    {
     "name": "stdout",
     "output_type": "stream",
     "text": [
      "Tests Passed\n"
     ]
    }
   ],
   "source": [
    "def normalize(x):\n",
    "    \"\"\"\n",
    "    Normalize a list of sample image data in the range of 0 to 1\n",
    "    : x: List of image data.  The image shape is (32, 32, 3)\n",
    "    : return: Numpy array of normalize data\n",
    "    \"\"\"\n",
    "    # Implement Function\n",
    "    return np.divide(x, 255.)\n",
    "\n",
    "\n",
    "\"\"\"\n",
    "DON'T MODIFY ANYTHING IN THIS CELL THAT IS BELOW THIS LINE\n",
    "\"\"\"\n",
    "tests.test_normalize(normalize)"
   ]
  },
  {
   "cell_type": "markdown",
   "metadata": {},
   "source": [
    "### One-hot encode\n",
    "Just like the previous code cell, you'll be implementing a function for preprocessing.  This time, you'll implement the `one_hot_encode` function. The input, `x`, are a list of labels.  Implement the function to return the list of labels as One-Hot encoded Numpy array.  The possible values for labels are 0 to 9. The one-hot encoding function should return the same encoding for each value between each call to `one_hot_encode`.  Make sure to save the map of encodings outside the function.\n",
    "\n",
    "Hint: Don't reinvent the wheel."
   ]
  },
  {
   "cell_type": "code",
   "execution_count": 4,
   "metadata": {},
   "outputs": [
    {
     "name": "stdout",
     "output_type": "stream",
     "text": [
      "Tests Passed\n"
     ]
    }
   ],
   "source": [
    "def one_hot_encode(x):\n",
    "    \"\"\"\n",
    "    One hot encode a list of sample labels. Return a one-hot encoded vector for each label.\n",
    "    : x: List of sample Labels\n",
    "    : return: Numpy array of one-hot encoded labels\n",
    "    \"\"\"\n",
    "    # Implement Function, using some fancy indexing based on eye of 10 possible classes\n",
    "    return np.eye(10)[x]\n",
    "\n",
    "\n",
    "\"\"\"\n",
    "DON'T MODIFY ANYTHING IN THIS CELL THAT IS BELOW THIS LINE\n",
    "\"\"\"\n",
    "tests.test_one_hot_encode(one_hot_encode)"
   ]
  },
  {
   "cell_type": "markdown",
   "metadata": {},
   "source": [
    "### Randomize Data\n",
    "As you saw from exploring the data above, the order of the samples are randomized.  It doesn't hurt to randomize it again, but you don't need to for this dataset."
   ]
  },
  {
   "cell_type": "markdown",
   "metadata": {},
   "source": [
    "## Preprocess all the data and save it\n",
    "Running the code cell below will preprocess all the CIFAR-10 data and save it to file. The code below also uses 10% of the training data for validation."
   ]
  },
  {
   "cell_type": "code",
   "execution_count": 5,
   "metadata": {
    "collapsed": true
   },
   "outputs": [],
   "source": [
    "\"\"\"\n",
    "DON'T MODIFY ANYTHING IN THIS CELL\n",
    "\"\"\"\n",
    "# Preprocess Training, Validation, and Testing Data\n",
    "helper.preprocess_and_save_data(cifar10_dataset_folder_path, normalize, one_hot_encode)"
   ]
  },
  {
   "cell_type": "markdown",
   "metadata": {},
   "source": [
    "# Check Point\n",
    "This is your first checkpoint.  If you ever decide to come back to this notebook or have to restart the notebook, you can start from here.  The preprocessed data has been saved to disk."
   ]
  },
  {
   "cell_type": "code",
   "execution_count": 6,
   "metadata": {
    "collapsed": true
   },
   "outputs": [],
   "source": [
    "\"\"\"\n",
    "DON'T MODIFY ANYTHING IN THIS CELL\n",
    "\"\"\"\n",
    "import pickle\n",
    "import problem_unittests as tests\n",
    "import helper\n",
    "\n",
    "# Load the Preprocessed Validation data\n",
    "valid_features, valid_labels = pickle.load(open('preprocess_validation.p', mode='rb'))"
   ]
  },
  {
   "cell_type": "markdown",
   "metadata": {},
   "source": [
    "## Build the network\n",
    "For the neural network, you'll build each layer into a function.  Most of the code you've seen has been outside of functions. To test your code more thoroughly, we require that you put each layer in a function.  This allows us to give you better feedback and test for simple mistakes using our unittests before you submit your project.\n",
    "\n",
    ">**Note:** If you're finding it hard to dedicate enough time for this course each week, we've provided a small shortcut to this part of the project. In the next couple of problems, you'll have the option to use classes from the [TensorFlow Layers](https://www.tensorflow.org/api_docs/python/tf/layers) or [TensorFlow Layers (contrib)](https://www.tensorflow.org/api_guides/python/contrib.layers) packages to build each layer, except the layers you build in the \"Convolutional and Max Pooling Layer\" section.  TF Layers is similar to Keras's and TFLearn's abstraction to layers, so it's easy to pickup.\n",
    "\n",
    ">However, if you would like to get the most out of this course, try to solve all the problems _without_ using anything from the TF Layers packages. You **can** still use classes from other packages that happen to have the same name as ones you find in TF Layers! For example, instead of using the TF Layers version of the `conv2d` class, [tf.layers.conv2d](https://www.tensorflow.org/api_docs/python/tf/layers/conv2d), you would want to use the TF Neural Network version of `conv2d`, [tf.nn.conv2d](https://www.tensorflow.org/api_docs/python/tf/nn/conv2d). \n",
    "\n",
    "Let's begin!\n",
    "\n",
    "### Input\n",
    "The neural network needs to read the image data, one-hot encoded labels, and dropout keep probability. Implement the following functions\n",
    "* Implement `neural_net_image_input`\n",
    " * Return a [TF Placeholder](https://www.tensorflow.org/api_docs/python/tf/placeholder)\n",
    " * Set the shape using `image_shape` with batch size set to `None`.\n",
    " * Name the TensorFlow placeholder \"x\" using the TensorFlow `name` parameter in the [TF Placeholder](https://www.tensorflow.org/api_docs/python/tf/placeholder).\n",
    "* Implement `neural_net_label_input`\n",
    " * Return a [TF Placeholder](https://www.tensorflow.org/api_docs/python/tf/placeholder)\n",
    " * Set the shape using `n_classes` with batch size set to `None`.\n",
    " * Name the TensorFlow placeholder \"y\" using the TensorFlow `name` parameter in the [TF Placeholder](https://www.tensorflow.org/api_docs/python/tf/placeholder).\n",
    "* Implement `neural_net_keep_prob_input`\n",
    " * Return a [TF Placeholder](https://www.tensorflow.org/api_docs/python/tf/placeholder) for dropout keep probability.\n",
    " * Name the TensorFlow placeholder \"keep_prob\" using the TensorFlow `name` parameter in the [TF Placeholder](https://www.tensorflow.org/api_docs/python/tf/placeholder).\n",
    "\n",
    "These names will be used at the end of the project to load your saved model.\n",
    "\n",
    "Note: `None` for shapes in TensorFlow allow for a dynamic size."
   ]
  },
  {
   "cell_type": "code",
   "execution_count": 7,
   "metadata": {},
   "outputs": [
    {
     "name": "stdout",
     "output_type": "stream",
     "text": [
      "Image Input Tests Passed.\n",
      "Label Input Tests Passed.\n",
      "Keep Prob Tests Passed.\n"
     ]
    }
   ],
   "source": [
    "import tensorflow as tf\n",
    "\n",
    "def neural_net_image_input(image_shape):\n",
    "    \"\"\"\n",
    "    Return a Tensor for a batch of image input\n",
    "    : image_shape: Shape of the images\n",
    "    : return: Tensor for image input.\n",
    "    \"\"\"\n",
    "    # Implement Function\n",
    "    return tf.placeholder(tf.float32, [None, image_shape[0], image_shape[1], image_shape[2]], name='x')\n",
    "\n",
    "\n",
    "def neural_net_label_input(n_classes):\n",
    "    \"\"\"\n",
    "    Return a Tensor for a batch of label input\n",
    "    : n_classes: Number of classes\n",
    "    : return: Tensor for label input.\n",
    "    \"\"\"\n",
    "    # Implement Function\n",
    "    return tf.placeholder(tf.float32, [None, n_classes], name='y')\n",
    "\n",
    "\n",
    "def neural_net_keep_prob_input():\n",
    "    \"\"\"\n",
    "    Return a Tensor for keep probability\n",
    "    : return: Tensor for keep probability.\n",
    "    \"\"\"\n",
    "    # Implement Function\n",
    "    return tf.placeholder(tf.float32, name='keep_prob')\n",
    "\n",
    "\n",
    "\"\"\"\n",
    "DON'T MODIFY ANYTHING IN THIS CELL THAT IS BELOW THIS LINE\n",
    "\"\"\"\n",
    "tf.reset_default_graph()\n",
    "tests.test_nn_image_inputs(neural_net_image_input)\n",
    "tests.test_nn_label_inputs(neural_net_label_input)\n",
    "tests.test_nn_keep_prob_inputs(neural_net_keep_prob_input)"
   ]
  },
  {
   "cell_type": "markdown",
   "metadata": {},
   "source": [
    "### Convolution and Max Pooling Layer\n",
    "Convolution layers have a lot of success with images. For this code cell, you should implement the function `conv2d_maxpool` to apply convolution then max pooling:\n",
    "* Create the weight and bias using `conv_ksize`, `conv_num_outputs` and the shape of `x_tensor`.\n",
    "* Apply a convolution to `x_tensor` using weight and `conv_strides`.\n",
    " * We recommend you use same padding, but you're welcome to use any padding.\n",
    "* Add bias\n",
    "* Add a nonlinear activation to the convolution.\n",
    "* Apply Max Pooling using `pool_ksize` and `pool_strides`.\n",
    " * We recommend you use same padding, but you're welcome to use any padding.\n",
    "\n",
    "**Note:** You **can't** use [TensorFlow Layers](https://www.tensorflow.org/api_docs/python/tf/layers) or [TensorFlow Layers (contrib)](https://www.tensorflow.org/api_guides/python/contrib.layers) for **this** layer, but you can still use TensorFlow's [Neural Network](https://www.tensorflow.org/api_docs/python/tf/nn) package. You may still use the shortcut option for all the **other** layers."
   ]
  },
  {
   "cell_type": "code",
   "execution_count": 8,
   "metadata": {},
   "outputs": [
    {
     "name": "stdout",
     "output_type": "stream",
     "text": [
      "Tests Passed\n"
     ]
    }
   ],
   "source": [
    "def conv2d_maxpool(x_tensor, conv_num_outputs, conv_ksize, conv_strides, pool_ksize, pool_strides):\n",
    "    \"\"\"\n",
    "    Apply convolution then max pooling to x_tensor\n",
    "    :param x_tensor: TensorFlow Tensor\n",
    "    :param conv_num_outputs: Number of outputs for the convolutional layer\n",
    "    :param conv_ksize: kernal size 2-D Tuple for the convolutional layer\n",
    "    :param conv_strides: Stride 2-D Tuple for convolution\n",
    "    :param pool_ksize: kernal size 2-D Tuple for pool\n",
    "    :param pool_strides: Stride 2-D Tuple for pool\n",
    "    : return: A tensor that represents convolution and max pooling of x_tensor\n",
    "    \"\"\"\n",
    "    # Implement Function, bring ceil to define the padding\n",
    "    from math import ceil\n",
    "    \n",
    "    # Define weights and bias\n",
    "    # From tensorflow documentation for the padding='SAME' case, output weight dimensions are defined as\n",
    "    weight_width = ceil(int(x_tensor.shape[1]) / float(conv_strides[0])) \n",
    "    weight_height = ceil(int(x_tensor.shape[2]) / float(conv_strides[1])) \n",
    "    \n",
    "    weight = tf.Variable(tf.truncated_normal([weight_width, weight_height, x_tensor.get_shape().as_list()[3],\n",
    "                                              conv_num_outputs], stddev=0.04))\n",
    "    bias = tf.Variable(tf.zeros([conv_num_outputs]))\n",
    "    \n",
    "    # Convolution Step\n",
    "    x = tf.nn.conv2d(x_tensor, weight, strides=[1,conv_strides[0], conv_strides[1], 1], padding='SAME')\n",
    "    x = tf.nn.bias_add(x, bias)\n",
    "    x = tf.nn.relu(x)\n",
    "    \n",
    "    # Max pooling step\n",
    "    x = tf.nn.max_pool(x, ksize=[1, pool_ksize[0], pool_ksize[1], 1], strides=[1, pool_strides[0], pool_strides[1], 1],\n",
    "                      padding='SAME')\n",
    "    \n",
    "    return x \n",
    "\n",
    "\n",
    "\"\"\"\n",
    "DON'T MODIFY ANYTHING IN THIS CELL THAT IS BELOW THIS LINE\n",
    "\"\"\"\n",
    "tests.test_con_pool(conv2d_maxpool)"
   ]
  },
  {
   "cell_type": "markdown",
   "metadata": {},
   "source": [
    "### Flatten Layer\n",
    "Implement the `flatten` function to change the dimension of `x_tensor` from a 4-D tensor to a 2-D tensor.  The output should be the shape (*Batch Size*, *Flattened Image Size*). Shortcut option: you can use classes from the [TensorFlow Layers](https://www.tensorflow.org/api_docs/python/tf/layers) or [TensorFlow Layers (contrib)](https://www.tensorflow.org/api_guides/python/contrib.layers) packages for this layer. For more of a challenge, only use other TensorFlow packages."
   ]
  },
  {
   "cell_type": "code",
   "execution_count": 9,
   "metadata": {},
   "outputs": [
    {
     "name": "stdout",
     "output_type": "stream",
     "text": [
      "Tests Passed\n"
     ]
    }
   ],
   "source": [
    "def flatten(x_tensor):\n",
    "    \"\"\"\n",
    "    Flatten x_tensor to (Batch Size, Flattened Image Size)\n",
    "    : x_tensor: A tensor of size (Batch Size, ...), where ... are the image dimensions.\n",
    "    : return: A tensor of size (Batch Size, Flattened Image Size).\n",
    "    \"\"\"\n",
    "    # Implement Function\n",
    "    dimensions = x_tensor.get_shape().as_list()\n",
    "    flat_im_size = np.prod(dimensions[1:]) # Multiply all the Flattened Image Size indexes\n",
    "    return tf.reshape(x_tensor, [-1, flat_im_size])\n",
    "\n",
    "\"\"\"\n",
    "DON'T MODIFY ANYTHING IN THIS CELL THAT IS BELOW THIS LINE\n",
    "\"\"\"\n",
    "tests.test_flatten(flatten)"
   ]
  },
  {
   "cell_type": "markdown",
   "metadata": {},
   "source": [
    "### Fully-Connected Layer\n",
    "Implement the `fully_conn` function to apply a fully connected layer to `x_tensor` with the shape (*Batch Size*, *num_outputs*). Shortcut option: you can use classes from the [TensorFlow Layers](https://www.tensorflow.org/api_docs/python/tf/layers) or [TensorFlow Layers (contrib)](https://www.tensorflow.org/api_guides/python/contrib.layers) packages for this layer. For more of a challenge, only use other TensorFlow packages."
   ]
  },
  {
   "cell_type": "code",
   "execution_count": 10,
   "metadata": {},
   "outputs": [
    {
     "name": "stdout",
     "output_type": "stream",
     "text": [
      "Tests Passed\n"
     ]
    }
   ],
   "source": [
    "def fully_conn(x_tensor, num_outputs):\n",
    "    \"\"\"\n",
    "    Apply a fully connected layer to x_tensor using weight and bias\n",
    "    : x_tensor: A 2-D tensor where the first dimension is batch size.\n",
    "    : num_outputs: The number of output that the new tensor should be.\n",
    "    : return: A 2-D tensor where the second dimension is num_outputs.\n",
    "    \"\"\"\n",
    "    # Implement Function\n",
    "    \n",
    "    # Weights and Biases\n",
    "    fc_size = x_tensor.get_shape().as_list()[1]\n",
    "    weight_fc = tf.Variable(tf.truncated_normal([fc_size, num_outputs], stddev=0.04))\n",
    "    bias_fc = tf.Variable(tf.zeros([num_outputs]))\n",
    "    \n",
    "    # Implement Fully connected\n",
    "    fc = tf.add(tf.matmul(x_tensor, weight_fc), bias_fc)\n",
    "    fc = tf.nn.relu(fc)\n",
    "    \n",
    "    return fc\n",
    "\n",
    "\n",
    "\"\"\"\n",
    "DON'T MODIFY ANYTHING IN THIS CELL THAT IS BELOW THIS LINE\n",
    "\"\"\"\n",
    "tests.test_fully_conn(fully_conn)"
   ]
  },
  {
   "cell_type": "markdown",
   "metadata": {},
   "source": [
    "### Output Layer\n",
    "Implement the `output` function to apply a fully connected layer to `x_tensor` with the shape (*Batch Size*, *num_outputs*). Shortcut option: you can use classes from the [TensorFlow Layers](https://www.tensorflow.org/api_docs/python/tf/layers) or [TensorFlow Layers (contrib)](https://www.tensorflow.org/api_guides/python/contrib.layers) packages for this layer. For more of a challenge, only use other TensorFlow packages.\n",
    "\n",
    "**Note:** Activation, softmax, or cross entropy should **not** be applied to this."
   ]
  },
  {
   "cell_type": "code",
   "execution_count": 11,
   "metadata": {},
   "outputs": [
    {
     "name": "stdout",
     "output_type": "stream",
     "text": [
      "Tests Passed\n"
     ]
    }
   ],
   "source": [
    "def output(x_tensor, num_outputs):\n",
    "    \"\"\"\n",
    "    Apply a output layer to x_tensor using weight and bias\n",
    "    : x_tensor: A 2-D tensor where the first dimension is batch size.\n",
    "    : num_outputs: The number of output that the new tensor should be.\n",
    "    : return: A 2-D tensor where the second dimension is num_outputs.\n",
    "    \"\"\"\n",
    "    # Implement Function\n",
    "    \n",
    "    # Weights and Biases\n",
    "    out_size = x_tensor.get_shape().as_list()[1]\n",
    "    weight_out = tf.Variable(tf.truncated_normal([out_size, num_outputs], stddev=0.04))\n",
    "    bias_out = tf.Variable(tf.zeros([num_outputs]))\n",
    "    \n",
    "    # Implement Fully connected\n",
    "    out = tf.add(tf.matmul(x_tensor, weight_out), bias_out)\n",
    "    \n",
    "    return out\n",
    "\n",
    "\n",
    "\"\"\"\n",
    "DON'T MODIFY ANYTHING IN THIS CELL THAT IS BELOW THIS LINE\n",
    "\"\"\"\n",
    "tests.test_output(output)"
   ]
  },
  {
   "cell_type": "markdown",
   "metadata": {},
   "source": [
    "### Create Convolutional Model\n",
    "Implement the function `conv_net` to create a convolutional neural network model. The function takes in a batch of images, `x`, and outputs logits.  Use the layers you created above to create this model:\n",
    "\n",
    "* Apply 1, 2, or 3 Convolution and Max Pool layers\n",
    "* Apply a Flatten Layer\n",
    "* Apply 1, 2, or 3 Fully Connected Layers\n",
    "* Apply an Output Layer\n",
    "* Return the output\n",
    "* Apply [TensorFlow's Dropout](https://www.tensorflow.org/api_docs/python/tf/nn/dropout) to one or more layers in the model using `keep_prob`. "
   ]
  },
  {
   "cell_type": "code",
   "execution_count": 12,
   "metadata": {},
   "outputs": [
    {
     "name": "stdout",
     "output_type": "stream",
     "text": [
      "Neural Network Built!\n"
     ]
    }
   ],
   "source": [
    "def conv_net(x, keep_prob):\n",
    "    \"\"\"\n",
    "    Create a convolutional neural network model\n",
    "    : x: Placeholder tensor that holds image data.\n",
    "    : keep_prob: Placeholder tensor that hold dropout keep probability.\n",
    "    : return: Tensor that represents logits\n",
    "    \"\"\"\n",
    "    # Apply 1, 2, or 3 Convolution and Max Pool layers\n",
    "    #    Play around with different number of outputs, kernel size and stride\n",
    "    # Function Definition from Above:\n",
    "    #    conv2d_maxpool(x_tensor, conv_num_outputs, conv_ksize, conv_strides, pool_ksize, pool_strides)\n",
    "    conv1 = conv2d_maxpool(x, 128, (6, 6), (3, 3), (2, 2), (2, 2))\n",
    "    conv2 = conv2d_maxpool(conv1, 256, (4, 4), (2, 2), (2, 2), (2, 2))\n",
    "    #conv3 = conv2d_maxpool(conv2, 512, (2, 2), (1, 1), (2, 2), (1, 1))\n",
    "\n",
    "    # Apply a Flatten Layer\n",
    "    # Function Definition from Above:\n",
    "    #   flatten(x_tensor)\n",
    "    f_layer = flatten(conv2)\n",
    "\n",
    "    # Apply 1, 2, or 3 Fully Connected Layers\n",
    "    #    Play around with different number of outputs\n",
    "    # Function Definition from Above:\n",
    "    #   fully_conn(x_tensor, num_outputs)\n",
    "    fc1 = fully_conn(f_layer, 1500)\n",
    "    fc1 = tf.nn.dropout(fc1, keep_prob)\n",
    "    fc2 = fully_conn(fc1, 3000)\n",
    "    fc2 = tf.nn.dropout(fc2, keep_prob)\n",
    "    \n",
    "    # Apply an Output Layer\n",
    "    #    Set this to the number of classes\n",
    "    # Function Definition from Above:\n",
    "    #   output(x_tensor, num_outputs)\n",
    "    out = output(fc2, 10)\n",
    "    \n",
    "    # return output\n",
    "    return out\n",
    "\n",
    "\n",
    "\"\"\"\n",
    "DON'T MODIFY ANYTHING IN THIS CELL THAT IS BELOW THIS LINE\n",
    "\"\"\"\n",
    "\n",
    "##############################\n",
    "## Build the Neural Network ##\n",
    "##############################\n",
    "\n",
    "# Remove previous weights, bias, inputs, etc..\n",
    "tf.reset_default_graph()\n",
    "\n",
    "# Inputs\n",
    "x = neural_net_image_input((32, 32, 3))\n",
    "y = neural_net_label_input(10)\n",
    "keep_prob = neural_net_keep_prob_input()\n",
    "\n",
    "# Model\n",
    "logits = conv_net(x, keep_prob)\n",
    "\n",
    "# Name logits Tensor, so that is can be loaded from disk after training\n",
    "logits = tf.identity(logits, name='logits')\n",
    "\n",
    "# Loss and Optimizer\n",
    "cost = tf.reduce_mean(tf.nn.softmax_cross_entropy_with_logits(logits=logits, labels=y))\n",
    "optimizer = tf.train.AdamOptimizer().minimize(cost)\n",
    "\n",
    "# Accuracy\n",
    "correct_pred = tf.equal(tf.argmax(logits, 1), tf.argmax(y, 1))\n",
    "accuracy = tf.reduce_mean(tf.cast(correct_pred, tf.float32), name='accuracy')\n",
    "\n",
    "tests.test_conv_net(conv_net)"
   ]
  },
  {
   "cell_type": "markdown",
   "metadata": {},
   "source": [
    "## Train the Neural Network\n",
    "### Single Optimization\n",
    "Implement the function `train_neural_network` to do a single optimization.  The optimization should use `optimizer` to optimize in `session` with a `feed_dict` of the following:\n",
    "* `x` for image input\n",
    "* `y` for labels\n",
    "* `keep_prob` for keep probability for dropout\n",
    "\n",
    "This function will be called for each batch, so `tf.global_variables_initializer()` has already been called.\n",
    "\n",
    "Note: Nothing needs to be returned. This function is only optimizing the neural network."
   ]
  },
  {
   "cell_type": "code",
   "execution_count": 13,
   "metadata": {},
   "outputs": [
    {
     "name": "stdout",
     "output_type": "stream",
     "text": [
      "Tests Passed\n"
     ]
    }
   ],
   "source": [
    "def train_neural_network(session, optimizer, keep_probability, feature_batch, label_batch):\n",
    "    \"\"\"\n",
    "    Optimize the session on a batch of images and labels\n",
    "    : session: Current TensorFlow session\n",
    "    : optimizer: TensorFlow optimizer function\n",
    "    : keep_probability: keep probability\n",
    "    : feature_batch: Batch of Numpy image data\n",
    "    : label_batch: Batch of Numpy label data\n",
    "    \"\"\"\n",
    "    # Implement Function\n",
    "    session.run(optimizer, feed_dict={x: feature_batch, y: label_batch, keep_prob: keep_probability})\n",
    "\n",
    "\n",
    "\"\"\"\n",
    "DON'T MODIFY ANYTHING IN THIS CELL THAT IS BELOW THIS LINE\n",
    "\"\"\"\n",
    "tests.test_train_nn(train_neural_network)"
   ]
  },
  {
   "cell_type": "markdown",
   "metadata": {},
   "source": [
    "### Show Stats\n",
    "Implement the function `print_stats` to print loss and validation accuracy.  Use the global variables `valid_features` and `valid_labels` to calculate validation accuracy.  Use a keep probability of `1.0` to calculate the loss and validation accuracy."
   ]
  },
  {
   "cell_type": "code",
   "execution_count": 14,
   "metadata": {
    "collapsed": true
   },
   "outputs": [],
   "source": [
    "def print_stats(session, feature_batch, label_batch, cost, accuracy):\n",
    "    \"\"\"\n",
    "    Print information about loss and validation accuracy\n",
    "    : session: Current TensorFlow session\n",
    "    : feature_batch: Batch of Numpy image data\n",
    "    : label_batch: Batch of Numpy label data\n",
    "    : cost: TensorFlow cost function\n",
    "    : accuracy: TensorFlow accuracy function\n",
    "    \"\"\"\n",
    "    # Implement Function cost and accuracy\n",
    "    cost = session.run(cost, feed_dict={x: feature_batch, y: label_batch, keep_prob: 1.0})\n",
    "    accuracy = session.run(accuracy, feed_dict={x: valid_features, y: valid_labels, keep_prob: 1.0})\n",
    "    print(' - Loss {:>9.3f} - Validation Accuracy: {:6.4f}%'.format(cost, accuracy*100))"
   ]
  },
  {
   "cell_type": "markdown",
   "metadata": {},
   "source": [
    "### Hyperparameters\n",
    "Tune the following parameters:\n",
    "* Set `epochs` to the number of iterations until the network stops learning or start overfitting\n",
    "* Set `batch_size` to the highest number that your machine has memory for.  Most people set them to common sizes of memory:\n",
    " * 64\n",
    " * 128\n",
    " * 256\n",
    " * ...\n",
    "* Set `keep_probability` to the probability of keeping a node using dropout"
   ]
  },
  {
   "cell_type": "code",
   "execution_count": 15,
   "metadata": {
    "collapsed": true
   },
   "outputs": [],
   "source": [
    "# Tune Parameters\n",
    "epochs = 40\n",
    "batch_size = 1024\n",
    "keep_probability = 0.7"
   ]
  },
  {
   "cell_type": "markdown",
   "metadata": {},
   "source": [
    "### Train on a Single CIFAR-10 Batch\n",
    "Instead of training the neural network on all the CIFAR-10 batches of data, let's use a single batch. This should save time while you iterate on the model to get a better accuracy.  Once the final validation accuracy is 50% or greater, run the model on all the data in the next section."
   ]
  },
  {
   "cell_type": "code",
   "execution_count": 16,
   "metadata": {},
   "outputs": [
    {
     "name": "stdout",
     "output_type": "stream",
     "text": [
      "Checking the Training on a Single Batch...\n",
      "Epoch  1, CIFAR-10 Batch 1:   - Loss     2.167 - Validation Accuracy: 19.4200%\n",
      "Epoch  2, CIFAR-10 Batch 1:   - Loss     1.999 - Validation Accuracy: 29.7200%\n",
      "Epoch  3, CIFAR-10 Batch 1:   - Loss     1.847 - Validation Accuracy: 33.8000%\n",
      "Epoch  4, CIFAR-10 Batch 1:   - Loss     1.695 - Validation Accuracy: 37.4400%\n",
      "Epoch  5, CIFAR-10 Batch 1:   - Loss     1.598 - Validation Accuracy: 39.6600%\n",
      "Epoch  6, CIFAR-10 Batch 1:   - Loss     1.498 - Validation Accuracy: 42.1400%\n",
      "Epoch  7, CIFAR-10 Batch 1:   - Loss     1.394 - Validation Accuracy: 45.4600%\n",
      "Epoch  8, CIFAR-10 Batch 1:   - Loss     1.293 - Validation Accuracy: 47.8400%\n",
      "Epoch  9, CIFAR-10 Batch 1:   - Loss     1.244 - Validation Accuracy: 48.0400%\n",
      "Epoch 10, CIFAR-10 Batch 1:   - Loss     1.258 - Validation Accuracy: 46.0000%\n",
      "Epoch 11, CIFAR-10 Batch 1:   - Loss     1.135 - Validation Accuracy: 49.0000%\n",
      "Epoch 12, CIFAR-10 Batch 1:   - Loss     1.040 - Validation Accuracy: 50.7400%\n",
      "Epoch 13, CIFAR-10 Batch 1:   - Loss     1.036 - Validation Accuracy: 48.7600%\n",
      "Epoch 14, CIFAR-10 Batch 1:   - Loss     0.931 - Validation Accuracy: 51.0400%\n",
      "Epoch 15, CIFAR-10 Batch 1:   - Loss     0.915 - Validation Accuracy: 49.6600%\n",
      "Epoch 16, CIFAR-10 Batch 1:   - Loss     0.787 - Validation Accuracy: 52.1000%\n",
      "Epoch 17, CIFAR-10 Batch 1:   - Loss     0.853 - Validation Accuracy: 49.5200%\n",
      "Epoch 18, CIFAR-10 Batch 1:   - Loss     0.661 - Validation Accuracy: 53.1000%\n",
      "Epoch 19, CIFAR-10 Batch 1:   - Loss     0.676 - Validation Accuracy: 49.3800%\n",
      "Epoch 20, CIFAR-10 Batch 1:   - Loss     0.565 - Validation Accuracy: 51.5000%\n",
      "Epoch 21, CIFAR-10 Batch 1:   - Loss     0.512 - Validation Accuracy: 51.6600%\n",
      "Epoch 22, CIFAR-10 Batch 1:   - Loss     0.504 - Validation Accuracy: 50.5400%\n",
      "Epoch 23, CIFAR-10 Batch 1:   - Loss     0.476 - Validation Accuracy: 51.5800%\n",
      "Epoch 24, CIFAR-10 Batch 1:   - Loss     0.446 - Validation Accuracy: 50.9200%\n",
      "Epoch 25, CIFAR-10 Batch 1:   - Loss     0.409 - Validation Accuracy: 50.5000%\n",
      "Epoch 26, CIFAR-10 Batch 1:   - Loss     0.324 - Validation Accuracy: 51.0000%\n",
      "Epoch 27, CIFAR-10 Batch 1:   - Loss     0.299 - Validation Accuracy: 50.9800%\n",
      "Epoch 28, CIFAR-10 Batch 1:   - Loss     0.249 - Validation Accuracy: 50.6600%\n",
      "Epoch 29, CIFAR-10 Batch 1:   - Loss     0.210 - Validation Accuracy: 51.8800%\n",
      "Epoch 30, CIFAR-10 Batch 1:   - Loss     0.194 - Validation Accuracy: 51.6000%\n",
      "Epoch 31, CIFAR-10 Batch 1:   - Loss     0.169 - Validation Accuracy: 50.0400%\n",
      "Epoch 32, CIFAR-10 Batch 1:   - Loss     0.276 - Validation Accuracy: 45.6400%\n",
      "Epoch 33, CIFAR-10 Batch 1:   - Loss     0.200 - Validation Accuracy: 50.1800%\n",
      "Epoch 34, CIFAR-10 Batch 1:   - Loss     0.256 - Validation Accuracy: 50.4400%\n",
      "Epoch 35, CIFAR-10 Batch 1:   - Loss     0.185 - Validation Accuracy: 51.2000%\n",
      "Epoch 36, CIFAR-10 Batch 1:   - Loss     0.145 - Validation Accuracy: 49.8600%\n",
      "Epoch 37, CIFAR-10 Batch 1:   - Loss     0.119 - Validation Accuracy: 50.1000%\n",
      "Epoch 38, CIFAR-10 Batch 1:   - Loss     0.109 - Validation Accuracy: 51.1800%\n",
      "Epoch 39, CIFAR-10 Batch 1:   - Loss     0.081 - Validation Accuracy: 51.0000%\n",
      "Epoch 40, CIFAR-10 Batch 1:   - Loss     0.066 - Validation Accuracy: 52.0600%\n"
     ]
    }
   ],
   "source": [
    "\"\"\"\n",
    "DON'T MODIFY ANYTHING IN THIS CELL\n",
    "\"\"\"\n",
    "print('Checking the Training on a Single Batch...')\n",
    "with tf.Session() as sess:\n",
    "    # Initializing the variables\n",
    "    sess.run(tf.global_variables_initializer())\n",
    "    \n",
    "    # Training cycle\n",
    "    for epoch in range(epochs):\n",
    "        batch_i = 1\n",
    "        for batch_features, batch_labels in helper.load_preprocess_training_batch(batch_i, batch_size):\n",
    "            train_neural_network(sess, optimizer, keep_probability, batch_features, batch_labels)\n",
    "        print('Epoch {:>2}, CIFAR-10 Batch {}:  '.format(epoch + 1, batch_i), end='')\n",
    "        print_stats(sess, batch_features, batch_labels, cost, accuracy)"
   ]
  },
  {
   "cell_type": "markdown",
   "metadata": {},
   "source": [
    "### Fully Train the Model\n",
    "Now that you got a good accuracy with a single CIFAR-10 batch, try it with all five batches."
   ]
  },
  {
   "cell_type": "code",
   "execution_count": 17,
   "metadata": {},
   "outputs": [
    {
     "name": "stdout",
     "output_type": "stream",
     "text": [
      "Training...\n",
      "Epoch  1, CIFAR-10 Batch 1:   - Loss     2.169 - Validation Accuracy: 18.1800%\n",
      "Epoch  1, CIFAR-10 Batch 2:   - Loss     1.960 - Validation Accuracy: 28.5800%\n",
      "Epoch  1, CIFAR-10 Batch 3:   - Loss     1.800 - Validation Accuracy: 32.8800%\n",
      "Epoch  1, CIFAR-10 Batch 4:   - Loss     1.720 - Validation Accuracy: 38.2200%\n",
      "Epoch  1, CIFAR-10 Batch 5:   - Loss     1.663 - Validation Accuracy: 39.6600%\n",
      "Epoch  2, CIFAR-10 Batch 1:   - Loss     1.615 - Validation Accuracy: 40.3000%\n",
      "Epoch  2, CIFAR-10 Batch 2:   - Loss     1.581 - Validation Accuracy: 41.8600%\n",
      "Epoch  2, CIFAR-10 Batch 3:   - Loss     1.513 - Validation Accuracy: 42.7600%\n",
      "Epoch  2, CIFAR-10 Batch 4:   - Loss     1.440 - Validation Accuracy: 46.4000%\n",
      "Epoch  2, CIFAR-10 Batch 5:   - Loss     1.412 - Validation Accuracy: 47.3200%\n",
      "Epoch  3, CIFAR-10 Batch 1:   - Loss     1.374 - Validation Accuracy: 48.1400%\n",
      "Epoch  3, CIFAR-10 Batch 2:   - Loss     1.453 - Validation Accuracy: 45.8000%\n",
      "Epoch  3, CIFAR-10 Batch 3:   - Loss     1.321 - Validation Accuracy: 48.6800%\n",
      "Epoch  3, CIFAR-10 Batch 4:   - Loss     1.277 - Validation Accuracy: 50.2200%\n",
      "Epoch  3, CIFAR-10 Batch 5:   - Loss     1.273 - Validation Accuracy: 50.5600%\n",
      "Epoch  4, CIFAR-10 Batch 1:   - Loss     1.277 - Validation Accuracy: 49.7600%\n",
      "Epoch  4, CIFAR-10 Batch 2:   - Loss     1.339 - Validation Accuracy: 49.1800%\n",
      "Epoch  4, CIFAR-10 Batch 3:   - Loss     1.213 - Validation Accuracy: 52.3000%\n",
      "Epoch  4, CIFAR-10 Batch 4:   - Loss     1.149 - Validation Accuracy: 52.2600%\n",
      "Epoch  4, CIFAR-10 Batch 5:   - Loss     1.139 - Validation Accuracy: 53.3600%\n",
      "Epoch  5, CIFAR-10 Batch 1:   - Loss     1.175 - Validation Accuracy: 52.5800%\n",
      "Epoch  5, CIFAR-10 Batch 2:   - Loss     1.189 - Validation Accuracy: 52.1600%\n",
      "Epoch  5, CIFAR-10 Batch 3:   - Loss     1.117 - Validation Accuracy: 53.3000%\n",
      "Epoch  5, CIFAR-10 Batch 4:   - Loss     1.053 - Validation Accuracy: 54.7600%\n",
      "Epoch  5, CIFAR-10 Batch 5:   - Loss     1.036 - Validation Accuracy: 54.1000%\n",
      "Epoch  6, CIFAR-10 Batch 1:   - Loss     1.095 - Validation Accuracy: 54.1800%\n",
      "Epoch  6, CIFAR-10 Batch 2:   - Loss     1.100 - Validation Accuracy: 54.4400%\n",
      "Epoch  6, CIFAR-10 Batch 3:   - Loss     1.030 - Validation Accuracy: 55.6800%\n",
      "Epoch  6, CIFAR-10 Batch 4:   - Loss     0.948 - Validation Accuracy: 56.4200%\n",
      "Epoch  6, CIFAR-10 Batch 5:   - Loss     0.918 - Validation Accuracy: 56.2800%\n",
      "Epoch  7, CIFAR-10 Batch 1:   - Loss     0.985 - Validation Accuracy: 56.5400%\n",
      "Epoch  7, CIFAR-10 Batch 2:   - Loss     1.060 - Validation Accuracy: 54.3600%\n",
      "Epoch  7, CIFAR-10 Batch 3:   - Loss     0.940 - Validation Accuracy: 56.1000%\n",
      "Epoch  7, CIFAR-10 Batch 4:   - Loss     0.918 - Validation Accuracy: 56.1400%\n",
      "Epoch  7, CIFAR-10 Batch 5:   - Loss     0.894 - Validation Accuracy: 55.8800%\n",
      "Epoch  8, CIFAR-10 Batch 1:   - Loss     0.919 - Validation Accuracy: 57.9200%\n",
      "Epoch  8, CIFAR-10 Batch 2:   - Loss     0.960 - Validation Accuracy: 56.0200%\n",
      "Epoch  8, CIFAR-10 Batch 3:   - Loss     0.853 - Validation Accuracy: 57.6400%\n",
      "Epoch  8, CIFAR-10 Batch 4:   - Loss     0.832 - Validation Accuracy: 57.4200%\n",
      "Epoch  8, CIFAR-10 Batch 5:   - Loss     0.828 - Validation Accuracy: 57.5800%\n",
      "Epoch  9, CIFAR-10 Batch 1:   - Loss     0.883 - Validation Accuracy: 57.5000%\n",
      "Epoch  9, CIFAR-10 Batch 2:   - Loss     0.903 - Validation Accuracy: 55.9200%\n",
      "Epoch  9, CIFAR-10 Batch 3:   - Loss     0.818 - Validation Accuracy: 58.2000%\n",
      "Epoch  9, CIFAR-10 Batch 4:   - Loss     0.787 - Validation Accuracy: 57.7200%\n",
      "Epoch  9, CIFAR-10 Batch 5:   - Loss     0.763 - Validation Accuracy: 57.7600%\n",
      "Epoch 10, CIFAR-10 Batch 1:   - Loss     0.815 - Validation Accuracy: 57.8200%\n",
      "Epoch 10, CIFAR-10 Batch 2:   - Loss     0.824 - Validation Accuracy: 58.7600%\n",
      "Epoch 10, CIFAR-10 Batch 3:   - Loss     0.758 - Validation Accuracy: 58.5000%\n",
      "Epoch 10, CIFAR-10 Batch 4:   - Loss     0.747 - Validation Accuracy: 57.6600%\n",
      "Epoch 10, CIFAR-10 Batch 5:   - Loss     0.718 - Validation Accuracy: 57.5800%\n",
      "Epoch 11, CIFAR-10 Batch 1:   - Loss     0.765 - Validation Accuracy: 59.5600%\n",
      "Epoch 11, CIFAR-10 Batch 2:   - Loss     0.799 - Validation Accuracy: 58.5800%\n",
      "Epoch 11, CIFAR-10 Batch 3:   - Loss     0.681 - Validation Accuracy: 59.6400%\n",
      "Epoch 11, CIFAR-10 Batch 4:   - Loss     0.649 - Validation Accuracy: 60.0600%\n",
      "Epoch 11, CIFAR-10 Batch 5:   - Loss     0.635 - Validation Accuracy: 60.7200%\n",
      "Epoch 12, CIFAR-10 Batch 1:   - Loss     0.705 - Validation Accuracy: 60.7800%\n",
      "Epoch 12, CIFAR-10 Batch 2:   - Loss     0.774 - Validation Accuracy: 57.1600%\n",
      "Epoch 12, CIFAR-10 Batch 3:   - Loss     0.674 - Validation Accuracy: 58.5800%\n",
      "Epoch 12, CIFAR-10 Batch 4:   - Loss     0.609 - Validation Accuracy: 59.1600%\n",
      "Epoch 12, CIFAR-10 Batch 5:   - Loss     0.608 - Validation Accuracy: 59.0600%\n",
      "Epoch 13, CIFAR-10 Batch 1:   - Loss     0.630 - Validation Accuracy: 60.9600%\n",
      "Epoch 13, CIFAR-10 Batch 2:   - Loss     0.666 - Validation Accuracy: 58.3000%\n",
      "Epoch 13, CIFAR-10 Batch 3:   - Loss     0.612 - Validation Accuracy: 59.3600%\n",
      "Epoch 13, CIFAR-10 Batch 4:   - Loss     0.572 - Validation Accuracy: 60.1800%\n",
      "Epoch 13, CIFAR-10 Batch 5:   - Loss     0.551 - Validation Accuracy: 59.4200%\n",
      "Epoch 14, CIFAR-10 Batch 1:   - Loss     0.555 - Validation Accuracy: 61.2600%\n",
      "Epoch 14, CIFAR-10 Batch 2:   - Loss     0.577 - Validation Accuracy: 61.1600%\n",
      "Epoch 14, CIFAR-10 Batch 3:   - Loss     0.634 - Validation Accuracy: 58.1400%\n",
      "Epoch 14, CIFAR-10 Batch 4:   - Loss     0.521 - Validation Accuracy: 60.2200%\n",
      "Epoch 14, CIFAR-10 Batch 5:   - Loss     0.461 - Validation Accuracy: 61.7000%\n",
      "Epoch 15, CIFAR-10 Batch 1:   - Loss     0.501 - Validation Accuracy: 61.9400%\n",
      "Epoch 15, CIFAR-10 Batch 2:   - Loss     0.556 - Validation Accuracy: 60.3600%\n",
      "Epoch 15, CIFAR-10 Batch 3:   - Loss     0.530 - Validation Accuracy: 59.6600%\n",
      "Epoch 15, CIFAR-10 Batch 4:   - Loss     0.501 - Validation Accuracy: 60.1800%\n",
      "Epoch 15, CIFAR-10 Batch 5:   - Loss     0.448 - Validation Accuracy: 60.4200%\n",
      "Epoch 16, CIFAR-10 Batch 1:   - Loss     0.459 - Validation Accuracy: 61.1200%\n",
      "Epoch 16, CIFAR-10 Batch 2:   - Loss     0.457 - Validation Accuracy: 60.5200%\n",
      "Epoch 16, CIFAR-10 Batch 3:   - Loss     0.465 - Validation Accuracy: 60.1000%\n",
      "Epoch 16, CIFAR-10 Batch 4:   - Loss     0.434 - Validation Accuracy: 59.2800%\n",
      "Epoch 16, CIFAR-10 Batch 5:   - Loss     0.432 - Validation Accuracy: 59.7800%\n",
      "Epoch 17, CIFAR-10 Batch 1:   - Loss     0.419 - Validation Accuracy: 61.0600%\n",
      "Epoch 17, CIFAR-10 Batch 2:   - Loss     0.455 - Validation Accuracy: 60.5200%\n",
      "Epoch 17, CIFAR-10 Batch 3:   - Loss     0.391 - Validation Accuracy: 61.5400%\n",
      "Epoch 17, CIFAR-10 Batch 4:   - Loss     0.386 - Validation Accuracy: 59.8000%\n",
      "Epoch 17, CIFAR-10 Batch 5:   - Loss     0.406 - Validation Accuracy: 59.4400%\n",
      "Epoch 18, CIFAR-10 Batch 1:   - Loss     0.408 - Validation Accuracy: 60.2200%\n",
      "Epoch 18, CIFAR-10 Batch 2:   - Loss     0.392 - Validation Accuracy: 62.3200%\n",
      "Epoch 18, CIFAR-10 Batch 3:   - Loss     0.450 - Validation Accuracy: 59.6600%\n",
      "Epoch 18, CIFAR-10 Batch 4:   - Loss     0.377 - Validation Accuracy: 60.2600%\n",
      "Epoch 18, CIFAR-10 Batch 5:   - Loss     0.400 - Validation Accuracy: 59.8200%\n",
      "Epoch 19, CIFAR-10 Batch 1:   - Loss     0.416 - Validation Accuracy: 59.5600%\n",
      "Epoch 19, CIFAR-10 Batch 2:   - Loss     0.364 - Validation Accuracy: 61.7600%\n",
      "Epoch 19, CIFAR-10 Batch 3:   - Loss     0.342 - Validation Accuracy: 61.4200%\n",
      "Epoch 19, CIFAR-10 Batch 4:   - Loss     0.371 - Validation Accuracy: 59.4200%\n",
      "Epoch 19, CIFAR-10 Batch 5:   - Loss     0.371 - Validation Accuracy: 60.0200%\n",
      "Epoch 20, CIFAR-10 Batch 1:   - Loss     0.374 - Validation Accuracy: 60.9000%\n",
      "Epoch 20, CIFAR-10 Batch 2:   - Loss     0.404 - Validation Accuracy: 59.8200%\n",
      "Epoch 20, CIFAR-10 Batch 3:   - Loss     0.326 - Validation Accuracy: 61.3800%\n",
      "Epoch 20, CIFAR-10 Batch 4:   - Loss     0.308 - Validation Accuracy: 61.7400%\n",
      "Epoch 20, CIFAR-10 Batch 5:   - Loss     0.306 - Validation Accuracy: 60.4000%\n",
      "Epoch 21, CIFAR-10 Batch 1:   - Loss     0.297 - Validation Accuracy: 61.1800%\n",
      "Epoch 21, CIFAR-10 Batch 2:   - Loss     0.328 - Validation Accuracy: 60.3200%\n",
      "Epoch 21, CIFAR-10 Batch 3:   - Loss     0.297 - Validation Accuracy: 60.0000%\n"
     ]
    },
    {
     "name": "stdout",
     "output_type": "stream",
     "text": [
      "Epoch 21, CIFAR-10 Batch 4:   - Loss     0.253 - Validation Accuracy: 61.9800%\n",
      "Epoch 21, CIFAR-10 Batch 5:   - Loss     0.293 - Validation Accuracy: 59.6400%\n",
      "Epoch 22, CIFAR-10 Batch 1:   - Loss     0.311 - Validation Accuracy: 59.5000%\n",
      "Epoch 22, CIFAR-10 Batch 2:   - Loss     0.260 - Validation Accuracy: 60.0400%\n",
      "Epoch 22, CIFAR-10 Batch 3:   - Loss     0.251 - Validation Accuracy: 60.7800%\n",
      "Epoch 22, CIFAR-10 Batch 4:   - Loss     0.253 - Validation Accuracy: 59.7400%\n",
      "Epoch 22, CIFAR-10 Batch 5:   - Loss     0.242 - Validation Accuracy: 60.9000%\n",
      "Epoch 23, CIFAR-10 Batch 1:   - Loss     0.253 - Validation Accuracy: 59.7400%\n",
      "Epoch 23, CIFAR-10 Batch 2:   - Loss     0.234 - Validation Accuracy: 60.4000%\n",
      "Epoch 23, CIFAR-10 Batch 3:   - Loss     0.264 - Validation Accuracy: 60.1600%\n",
      "Epoch 23, CIFAR-10 Batch 4:   - Loss     0.214 - Validation Accuracy: 59.5800%\n",
      "Epoch 23, CIFAR-10 Batch 5:   - Loss     0.239 - Validation Accuracy: 60.9800%\n",
      "Epoch 24, CIFAR-10 Batch 1:   - Loss     0.250 - Validation Accuracy: 60.7200%\n",
      "Epoch 24, CIFAR-10 Batch 2:   - Loss     0.241 - Validation Accuracy: 61.2200%\n",
      "Epoch 24, CIFAR-10 Batch 3:   - Loss     0.227 - Validation Accuracy: 61.1000%\n",
      "Epoch 24, CIFAR-10 Batch 4:   - Loss     0.212 - Validation Accuracy: 60.8600%\n",
      "Epoch 24, CIFAR-10 Batch 5:   - Loss     0.216 - Validation Accuracy: 60.3400%\n",
      "Epoch 25, CIFAR-10 Batch 1:   - Loss     0.215 - Validation Accuracy: 61.2800%\n",
      "Epoch 25, CIFAR-10 Batch 2:   - Loss     0.218 - Validation Accuracy: 60.8000%\n",
      "Epoch 25, CIFAR-10 Batch 3:   - Loss     0.271 - Validation Accuracy: 58.3400%\n",
      "Epoch 25, CIFAR-10 Batch 4:   - Loss     0.182 - Validation Accuracy: 60.8400%\n",
      "Epoch 25, CIFAR-10 Batch 5:   - Loss     0.187 - Validation Accuracy: 61.1000%\n",
      "Epoch 26, CIFAR-10 Batch 1:   - Loss     0.194 - Validation Accuracy: 60.8400%\n",
      "Epoch 26, CIFAR-10 Batch 2:   - Loss     0.214 - Validation Accuracy: 58.8000%\n",
      "Epoch 26, CIFAR-10 Batch 3:   - Loss     0.189 - Validation Accuracy: 61.0400%\n",
      "Epoch 26, CIFAR-10 Batch 4:   - Loss     0.209 - Validation Accuracy: 58.5400%\n",
      "Epoch 26, CIFAR-10 Batch 5:   - Loss     0.235 - Validation Accuracy: 58.8600%\n",
      "Epoch 27, CIFAR-10 Batch 1:   - Loss     0.229 - Validation Accuracy: 60.3600%\n",
      "Epoch 27, CIFAR-10 Batch 2:   - Loss     0.206 - Validation Accuracy: 59.9200%\n",
      "Epoch 27, CIFAR-10 Batch 3:   - Loss     0.213 - Validation Accuracy: 60.6400%\n",
      "Epoch 27, CIFAR-10 Batch 4:   - Loss     0.207 - Validation Accuracy: 59.4000%\n",
      "Epoch 27, CIFAR-10 Batch 5:   - Loss     0.221 - Validation Accuracy: 59.9000%\n",
      "Epoch 28, CIFAR-10 Batch 1:   - Loss     0.205 - Validation Accuracy: 60.2200%\n",
      "Epoch 28, CIFAR-10 Batch 2:   - Loss     0.190 - Validation Accuracy: 60.3200%\n",
      "Epoch 28, CIFAR-10 Batch 3:   - Loss     0.189 - Validation Accuracy: 59.9200%\n",
      "Epoch 28, CIFAR-10 Batch 4:   - Loss     0.192 - Validation Accuracy: 59.8000%\n",
      "Epoch 28, CIFAR-10 Batch 5:   - Loss     0.151 - Validation Accuracy: 60.3200%\n",
      "Epoch 29, CIFAR-10 Batch 1:   - Loss     0.152 - Validation Accuracy: 61.2800%\n",
      "Epoch 29, CIFAR-10 Batch 2:   - Loss     0.159 - Validation Accuracy: 61.0000%\n",
      "Epoch 29, CIFAR-10 Batch 3:   - Loss     0.151 - Validation Accuracy: 60.0000%\n",
      "Epoch 29, CIFAR-10 Batch 4:   - Loss     0.163 - Validation Accuracy: 58.9800%\n",
      "Epoch 29, CIFAR-10 Batch 5:   - Loss     0.138 - Validation Accuracy: 61.3200%\n",
      "Epoch 30, CIFAR-10 Batch 1:   - Loss     0.138 - Validation Accuracy: 61.5200%\n",
      "Epoch 30, CIFAR-10 Batch 2:   - Loss     0.135 - Validation Accuracy: 61.1200%\n",
      "Epoch 30, CIFAR-10 Batch 3:   - Loss     0.111 - Validation Accuracy: 61.6000%\n",
      "Epoch 30, CIFAR-10 Batch 4:   - Loss     0.140 - Validation Accuracy: 59.1400%\n",
      "Epoch 30, CIFAR-10 Batch 5:   - Loss     0.156 - Validation Accuracy: 61.0400%\n",
      "Epoch 31, CIFAR-10 Batch 1:   - Loss     0.119 - Validation Accuracy: 61.1000%\n",
      "Epoch 31, CIFAR-10 Batch 2:   - Loss     0.122 - Validation Accuracy: 62.0600%\n",
      "Epoch 31, CIFAR-10 Batch 3:   - Loss     0.115 - Validation Accuracy: 61.2600%\n",
      "Epoch 31, CIFAR-10 Batch 4:   - Loss     0.118 - Validation Accuracy: 58.4600%\n",
      "Epoch 31, CIFAR-10 Batch 5:   - Loss     0.151 - Validation Accuracy: 60.5800%\n",
      "Epoch 32, CIFAR-10 Batch 1:   - Loss     0.129 - Validation Accuracy: 60.8000%\n",
      "Epoch 32, CIFAR-10 Batch 2:   - Loss     0.111 - Validation Accuracy: 61.1400%\n",
      "Epoch 32, CIFAR-10 Batch 3:   - Loss     0.111 - Validation Accuracy: 60.6200%\n",
      "Epoch 32, CIFAR-10 Batch 4:   - Loss     0.116 - Validation Accuracy: 58.9800%\n",
      "Epoch 32, CIFAR-10 Batch 5:   - Loss     0.134 - Validation Accuracy: 59.8200%\n",
      "Epoch 33, CIFAR-10 Batch 1:   - Loss     0.122 - Validation Accuracy: 61.8200%\n",
      "Epoch 33, CIFAR-10 Batch 2:   - Loss     0.107 - Validation Accuracy: 61.9600%\n",
      "Epoch 33, CIFAR-10 Batch 3:   - Loss     0.105 - Validation Accuracy: 60.8400%\n",
      "Epoch 33, CIFAR-10 Batch 4:   - Loss     0.103 - Validation Accuracy: 61.1000%\n",
      "Epoch 33, CIFAR-10 Batch 5:   - Loss     0.089 - Validation Accuracy: 61.0600%\n",
      "Epoch 34, CIFAR-10 Batch 1:   - Loss     0.092 - Validation Accuracy: 62.2400%\n",
      "Epoch 34, CIFAR-10 Batch 2:   - Loss     0.092 - Validation Accuracy: 61.2800%\n",
      "Epoch 34, CIFAR-10 Batch 3:   - Loss     0.089 - Validation Accuracy: 61.1200%\n",
      "Epoch 34, CIFAR-10 Batch 4:   - Loss     0.089 - Validation Accuracy: 60.0200%\n",
      "Epoch 34, CIFAR-10 Batch 5:   - Loss     0.093 - Validation Accuracy: 60.8000%\n",
      "Epoch 35, CIFAR-10 Batch 1:   - Loss     0.105 - Validation Accuracy: 59.7600%\n",
      "Epoch 35, CIFAR-10 Batch 2:   - Loss     0.069 - Validation Accuracy: 62.0200%\n",
      "Epoch 35, CIFAR-10 Batch 3:   - Loss     0.072 - Validation Accuracy: 61.8400%\n",
      "Epoch 35, CIFAR-10 Batch 4:   - Loss     0.077 - Validation Accuracy: 59.5600%\n",
      "Epoch 35, CIFAR-10 Batch 5:   - Loss     0.060 - Validation Accuracy: 61.4800%\n",
      "Epoch 36, CIFAR-10 Batch 1:   - Loss     0.083 - Validation Accuracy: 61.3200%\n",
      "Epoch 36, CIFAR-10 Batch 2:   - Loss     0.088 - Validation Accuracy: 60.3600%\n",
      "Epoch 36, CIFAR-10 Batch 3:   - Loss     0.074 - Validation Accuracy: 62.1600%\n",
      "Epoch 36, CIFAR-10 Batch 4:   - Loss     0.061 - Validation Accuracy: 60.8400%\n",
      "Epoch 36, CIFAR-10 Batch 5:   - Loss     0.065 - Validation Accuracy: 61.4400%\n",
      "Epoch 37, CIFAR-10 Batch 1:   - Loss     0.088 - Validation Accuracy: 61.2000%\n",
      "Epoch 37, CIFAR-10 Batch 2:   - Loss     0.066 - Validation Accuracy: 59.9600%\n",
      "Epoch 37, CIFAR-10 Batch 3:   - Loss     0.080 - Validation Accuracy: 61.3600%\n",
      "Epoch 37, CIFAR-10 Batch 4:   - Loss     0.044 - Validation Accuracy: 60.7800%\n",
      "Epoch 37, CIFAR-10 Batch 5:   - Loss     0.048 - Validation Accuracy: 61.3400%\n",
      "Epoch 38, CIFAR-10 Batch 1:   - Loss     0.059 - Validation Accuracy: 61.7000%\n",
      "Epoch 38, CIFAR-10 Batch 2:   - Loss     0.059 - Validation Accuracy: 60.5800%\n",
      "Epoch 38, CIFAR-10 Batch 3:   - Loss     0.078 - Validation Accuracy: 60.8800%\n",
      "Epoch 38, CIFAR-10 Batch 4:   - Loss     0.052 - Validation Accuracy: 61.8400%\n",
      "Epoch 38, CIFAR-10 Batch 5:   - Loss     0.074 - Validation Accuracy: 60.8000%\n",
      "Epoch 39, CIFAR-10 Batch 1:   - Loss     0.080 - Validation Accuracy: 61.9200%\n",
      "Epoch 39, CIFAR-10 Batch 2:   - Loss     0.082 - Validation Accuracy: 60.0000%\n",
      "Epoch 39, CIFAR-10 Batch 3:   - Loss     0.062 - Validation Accuracy: 61.8400%\n",
      "Epoch 39, CIFAR-10 Batch 4:   - Loss     0.062 - Validation Accuracy: 60.5600%\n",
      "Epoch 39, CIFAR-10 Batch 5:   - Loss     0.058 - Validation Accuracy: 61.1400%\n",
      "Epoch 40, CIFAR-10 Batch 1:   - Loss     0.076 - Validation Accuracy: 61.2800%\n",
      "Epoch 40, CIFAR-10 Batch 2:   - Loss     0.078 - Validation Accuracy: 60.7400%\n",
      "Epoch 40, CIFAR-10 Batch 3:   - Loss     0.066 - Validation Accuracy: 60.2800%\n",
      "Epoch 40, CIFAR-10 Batch 4:   - Loss     0.045 - Validation Accuracy: 62.0000%\n",
      "Epoch 40, CIFAR-10 Batch 5:   - Loss     0.044 - Validation Accuracy: 61.7000%\n"
     ]
    }
   ],
   "source": [
    "\"\"\"\n",
    "DON'T MODIFY ANYTHING IN THIS CELL\n",
    "\"\"\"\n",
    "save_model_path = './image_classification'\n",
    "\n",
    "print('Training...')\n",
    "with tf.Session() as sess:\n",
    "    # Initializing the variables\n",
    "    sess.run(tf.global_variables_initializer())\n",
    "    \n",
    "    # Training cycle\n",
    "    for epoch in range(epochs):\n",
    "        # Loop over all batches\n",
    "        n_batches = 5\n",
    "        for batch_i in range(1, n_batches + 1):\n",
    "            for batch_features, batch_labels in helper.load_preprocess_training_batch(batch_i, batch_size):\n",
    "                train_neural_network(sess, optimizer, keep_probability, batch_features, batch_labels)\n",
    "            print('Epoch {:>2}, CIFAR-10 Batch {}:  '.format(epoch + 1, batch_i), end='')\n",
    "            print_stats(sess, batch_features, batch_labels, cost, accuracy)\n",
    "            \n",
    "    # Save Model\n",
    "    saver = tf.train.Saver()\n",
    "    save_path = saver.save(sess, save_model_path)"
   ]
  },
  {
   "cell_type": "markdown",
   "metadata": {},
   "source": [
    "# Checkpoint\n",
    "The model has been saved to disk.\n",
    "## Test Model\n",
    "Test your model against the test dataset.  This will be your final accuracy. You should have an accuracy greater than 50%. If you don't, keep tweaking the model architecture and parameters."
   ]
  },
  {
   "cell_type": "code",
   "execution_count": 18,
   "metadata": {},
   "outputs": [
    {
     "name": "stdout",
     "output_type": "stream",
     "text": [
      "INFO:tensorflow:Restoring parameters from ./image_classification\n",
      "Testing Accuracy: 0.6083506047725677\n",
      "\n"
     ]
    },
    {
     "data": {
      "image/png": "[encoded data removed]",
      "text/plain": [
       "<matplotlib.figure.Figure at 0x23306ba7240>"
      ]
     },
     "metadata": {
      "image/png": {
       "height": 319,
       "width": 355
      }
     },
     "output_type": "display_data"
    }
   ],
   "source": [
    "\"\"\"\n",
    "DON'T MODIFY ANYTHING IN THIS CELL\n",
    "\"\"\"\n",
    "%matplotlib inline\n",
    "%config InlineBackend.figure_format = 'retina'\n",
    "\n",
    "import tensorflow as tf\n",
    "import pickle\n",
    "import helper\n",
    "import random\n",
    "\n",
    "# Set batch size if not already set\n",
    "try:\n",
    "    if batch_size:\n",
    "        pass\n",
    "except NameError:\n",
    "    batch_size = 64\n",
    "\n",
    "save_model_path = './image_classification'\n",
    "n_samples = 4\n",
    "top_n_predictions = 3\n",
    "\n",
    "def test_model():\n",
    "    \"\"\"\n",
    "    Test the saved model against the test dataset\n",
    "    \"\"\"\n",
    "\n",
    "    test_features, test_labels = pickle.load(open('preprocess_test.p', mode='rb'))\n",
    "    loaded_graph = tf.Graph()\n",
    "\n",
    "    with tf.Session(graph=loaded_graph) as sess:\n",
    "        # Load model\n",
    "        loader = tf.train.import_meta_graph(save_model_path + '.meta')\n",
    "        loader.restore(sess, save_model_path)\n",
    "\n",
    "        # Get Tensors from loaded model\n",
    "        loaded_x = loaded_graph.get_tensor_by_name('x:0')\n",
    "        loaded_y = loaded_graph.get_tensor_by_name('y:0')\n",
    "        loaded_keep_prob = loaded_graph.get_tensor_by_name('keep_prob:0')\n",
    "        loaded_logits = loaded_graph.get_tensor_by_name('logits:0')\n",
    "        loaded_acc = loaded_graph.get_tensor_by_name('accuracy:0')\n",
    "        \n",
    "        # Get accuracy in batches for memory limitations\n",
    "        test_batch_acc_total = 0\n",
    "        test_batch_count = 0\n",
    "        \n",
    "        for test_feature_batch, test_label_batch in helper.batch_features_labels(test_features, test_labels, batch_size):\n",
    "            test_batch_acc_total += sess.run(\n",
    "                loaded_acc,\n",
    "                feed_dict={loaded_x: test_feature_batch, loaded_y: test_label_batch, loaded_keep_prob: 1.0})\n",
    "            test_batch_count += 1\n",
    "\n",
    "        print('Testing Accuracy: {}\\n'.format(test_batch_acc_total/test_batch_count))\n",
    "\n",
    "        # Print Random Samples\n",
    "        random_test_features, random_test_labels = tuple(zip(*random.sample(list(zip(test_features, test_labels)), n_samples)))\n",
    "        random_test_predictions = sess.run(\n",
    "            tf.nn.top_k(tf.nn.softmax(loaded_logits), top_n_predictions),\n",
    "            feed_dict={loaded_x: random_test_features, loaded_y: random_test_labels, loaded_keep_prob: 1.0})\n",
    "        helper.display_image_predictions(random_test_features, random_test_labels, random_test_predictions)\n",
    "\n",
    "\n",
    "test_model()"
   ]
  },
  {
   "cell_type": "markdown",
   "metadata": {},
   "source": [
    "## Why 50-80% Accuracy?\n",
    "You might be wondering why you can't get an accuracy any higher. First things first, 50% isn't bad for a simple CNN.  Pure guessing would get you 10% accuracy. However, you might notice people are getting scores [well above 80%](http://rodrigob.github.io/are_we_there_yet/build/classification_datasets_results.html#43494641522d3130).  That's because we haven't taught you all there is to know about neural networks. We still need to cover a few more techniques.\n",
    "## Submitting This Project\n",
    "When submitting this project, make sure to run all the cells before saving the notebook.  Save the notebook file as \"dlnd_image_classification.ipynb\" and save it as a HTML file under \"File\" -> \"Download as\".  Include the \"helper.py\" and \"problem_unittests.py\" files in your submission."
   ]
  }
 ],
 "metadata": {
  "kernelspec": {
   "display_name": "Python 3",
   "language": "python",
   "name": "python3"
  },
  "language_info": {
   "codemirror_mode": {
    "name": "ipython",
    "version": 3
   },
   "file_extension": ".py",
   "mimetype": "text/x-python",
   "name": "python",
   "nbconvert_exporter": "python",
   "pygments_lexer": "ipython3",
   "version": "3.5.4"
  },
  "widgets": {
   "state": {},
   "version": "1.1.2"
  }
 },
 "nbformat": 4,
 "nbformat_minor": 1
}
